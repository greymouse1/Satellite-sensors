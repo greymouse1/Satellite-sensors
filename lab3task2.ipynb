{
  "nbformat": 4,
  "nbformat_minor": 0,
  "metadata": {
    "colab": {
      "provenance": [],
      "authorship_tag": "ABX9TyM0WurajQITyA9LNi/rhIjc",
      "include_colab_link": true
    },
    "kernelspec": {
      "name": "python3",
      "display_name": "Python 3"
    },
    "language_info": {
      "name": "python"
    }
  },
  "cells": [
    {
      "cell_type": "markdown",
      "metadata": {
        "id": "view-in-github",
        "colab_type": "text"
      },
      "source": [
        "<a href=\"https://colab.research.google.com/github/greymouse1/Satellite-sensors/blob/main/lab3task2.ipynb\" target=\"_parent\"><img src=\"https://colab.research.google.com/assets/colab-badge.svg\" alt=\"Open In Colab\"/></a>"
      ]
    },
    {
      "cell_type": "code",
      "execution_count": 1,
      "metadata": {
        "id": "Js_VVOEwVTK-"
      },
      "outputs": [],
      "source": [
        "import pandas as pd"
      ]
    },
    {
      "cell_type": "code",
      "source": [
        "# Import file\n",
        "\n",
        "filenames = [\"EGM2008_4c91ccfb8d0430958b07300eac587d66cba2fa88ea3df7ca3e26053c49f36512.gdf\",\"GOCO06s_5e3b32942656e1d566c49c323fe85665d3b6f0bb31a32b304bdcdda31e215008.gdf\"]\n",
        "\n",
        "for name in filenames:\n",
        "  df = pd.read_csv(name, skiprows=38, delim_whitespace=True)\n",
        ""
      ],
      "metadata": {
        "id": "xUWtO9ccVZwa"
      },
      "execution_count": null,
      "outputs": []
    }
  ]
}