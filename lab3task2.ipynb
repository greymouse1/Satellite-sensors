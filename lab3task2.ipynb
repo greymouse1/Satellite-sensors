{
  "nbformat": 4,
  "nbformat_minor": 0,
  "metadata": {
    "colab": {
      "provenance": [],
      "authorship_tag": "ABX9TyNzKU/PpGzFH2HOOA+X0BSl",
      "include_colab_link": true
    },
    "kernelspec": {
      "name": "python3",
      "display_name": "Python 3"
    },
    "language_info": {
      "name": "python"
    }
  },
  "cells": [
    {
      "cell_type": "markdown",
      "metadata": {
        "id": "view-in-github",
        "colab_type": "text"
      },
      "source": [
        "<a href=\"https://colab.research.google.com/github/greymouse1/Satellite-sensors/blob/main/lab3task2.ipynb\" target=\"_parent\"><img src=\"https://colab.research.google.com/assets/colab-badge.svg\" alt=\"Open In Colab\"/></a>"
      ]
    },
    {
      "cell_type": "code",
      "execution_count": 1,
      "metadata": {
        "id": "Js_VVOEwVTK-"
      },
      "outputs": [],
      "source": [
        "import pandas as pd"
      ]
    },
    {
      "cell_type": "code",
      "source": [
        "filenames = [\"https://raw.githubusercontent.com/greymouse1/Satellite-sensors/main/EGM2008_4c91ccfb8d0430958b07300eac587d66cba2fa88ea3df7ca3e26053c49f36512.gdf\",\n",
        "             \"https://raw.githubusercontent.com/greymouse1/Satellite-sensors/main/GOCO06s_5e3b32942656e1d566c49c323fe85665d3b6f0bb31a32b304bdcdda31e215008.gdf\"]\n",
        "\n",
        "for name in filenames:\n",
        "  df = pd.read_csv(name, skiprows=38, delim_whitespace=True)\n",
        "  # Extract the geoid column\n",
        "  geoid_column = df.iloc[:,2]\n",
        "\n",
        "  min = geoid_column.min()\n",
        "  print(f\"Minimum value for {name[68:75]} is\",min)\n",
        "\n",
        "  max=geoid_column.max()\n",
        "  print(f\"Maximum value for {name[68:75]} is\",max)\n",
        "\n",
        "  mean=geoid_column.mean()\n",
        "  print(f\"Mean value for {name[68:75]} is\",mean)\n",
        "\n",
        "  stdev=geoid_column.std()\n",
        "  print(f\"Standard deviation value for {name[68:75]} is\",stdev)\n",
        "\n",
        "  print(\"--------------------------\")\n",
        "\n",
        "\n"
      ],
      "metadata": {
        "colab": {
          "base_uri": "https://localhost:8080/"
        },
        "id": "xUWtO9ccVZwa",
        "outputId": "46bde066-b237-4e86-b92f-159431b6f8ce"
      },
      "execution_count": 22,
      "outputs": [
        {
          "output_type": "stream",
          "name": "stdout",
          "text": [
            "Minimum value for EGM2008 is -107.040219161476\n",
            "Maximum value for EGM2008 is 84.127409211049\n",
            "Mean value for EGM2008 is -1.8731348392883835\n",
            "Standard deviation value for EGM2008 is 29.217014774970348\n",
            "--------------------------\n",
            "Minimum value for GOCO06s is -107.306782839396\n",
            "Maximum value for GOCO06s is 83.406525070957\n",
            "Mean value for GOCO06s is -1.8745393231436627\n",
            "Standard deviation value for GOCO06s is 29.212781725334285\n",
            "--------------------------\n"
          ]
        }
      ]
    }
  ]
}