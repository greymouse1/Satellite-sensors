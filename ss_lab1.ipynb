{
  "nbformat": 4,
  "nbformat_minor": 0,
  "metadata": {
    "colab": {
      "provenance": [],
      "mount_file_id": "1VUUwzFp2QlHtURHvT2noLPNPnMw2PUtW",
      "authorship_tag": "ABX9TyMSw+HA2XM9kdaTF/2hG0f+",
      "include_colab_link": true
    },
    "kernelspec": {
      "name": "python3",
      "display_name": "Python 3"
    },
    "language_info": {
      "name": "python"
    }
  },
  "cells": [
    {
      "cell_type": "markdown",
      "metadata": {
        "id": "view-in-github",
        "colab_type": "text"
      },
      "source": [
        "<a href=\"https://colab.research.google.com/github/greymouse1/ss_lab1/blob/main/ss_lab1.ipynb\" target=\"_parent\"><img src=\"https://colab.research.google.com/assets/colab-badge.svg\" alt=\"Open In Colab\"/></a>"
      ]
    },
    {
      "cell_type": "code",
      "source": [
        "from google.colab import drive\n",
        "drive.mount('/content/drive')"
      ],
      "metadata": {
        "colab": {
          "base_uri": "https://localhost:8080/"
        },
        "id": "351cPWZqbx0A",
        "outputId": "acf62874-dfa0-4853-ba1d-4e09d49cede9"
      },
      "execution_count": 30,
      "outputs": [
        {
          "output_type": "stream",
          "name": "stdout",
          "text": [
            "Mounted at /content/drive\n"
          ]
        }
      ]
    },
    {
      "cell_type": "code",
      "execution_count": 2,
      "metadata": {
        "id": "9b30HJeyAN4q"
      },
      "outputs": [],
      "source": [
        "# import numpy for matrix operations\n",
        "import numpy as np\n",
        "# import math for advanced operations\n",
        "import math"
      ]
    },
    {
      "cell_type": "markdown",
      "source": [
        "Task #1"
      ],
      "metadata": {
        "id": "PwoR70y_aUqs"
      }
    },
    {
      "cell_type": "code",
      "source": [
        "# define known values (everything is in meters and dgm)\n",
        "\n",
        "# GRS80 parameters\n",
        "a = 6378137\n",
        "f = 1/298.257222101\n",
        "\n",
        "\n",
        "# semi-minor axis\n",
        "b = a*(1-f)\n",
        "\n",
        "# ellipsoid height\n",
        "h = 85\n",
        "\n",
        "# eccentricity\n",
        "e_sq = ((a**2)-(b**2))/(a**2)\n",
        "\n",
        "# Lat\n",
        "lat_d = 59\n",
        "lat_m = 20\n",
        "lat_s = 59\n",
        "\n",
        "# Lon\n",
        "lon_d = 18\n",
        "lon_m = 4\n",
        "lon_s = 10\n",
        "\n",
        "# define functions for conversion from dgm to radians\n",
        "\n",
        "def dgm_rad (d,m,s) :\n",
        "  decimal_degrees = d + m/60 + s/3600\n",
        "  print(f\"Decimal degrees are {decimal_degrees}\")\n",
        "  degrees_radians = decimal_degrees * (math.pi / 180)\n",
        "  return degrees_radians\n",
        "\n",
        "# Lat in rads\n",
        "lat_r = dgm_rad(lat_d,lat_m,lat_s)\n",
        "\n",
        "# Long in rads\n",
        "lon_r = dgm_rad(lon_d,lon_m,lon_s)\n",
        "\n",
        "N = a / math.sqrt(1 - e_sq * math.sin(lat_r)**2)\n",
        "\n",
        "# define functions for conversion of geodetic to cartesian coordinates\n",
        "X = (N+h)*(math.cos(lat_r)*math.cos(lon_r))\n",
        "Y = (N+h)*(math.cos(lat_r)*math.sin(lon_r))\n",
        "Z = (N*(1-e_sq)+h)*math.sin(lat_r)\n",
        "\n",
        "print(f\"X coordinate is {X}\")\n",
        "print(f\"Y coordinate is {Y}\")\n",
        "print(f\"Z coordinate is {Z}\")\n",
        "\n",
        "# define auxiliary values\n",
        "p = math.sqrt(X**2 + Y**2)\n",
        "\n",
        "teta = math.atan(Z / (p*math.sqrt(1 - e_sq)))\n",
        "\n",
        "# define functions for conversion from cartesian to geodetic\n",
        "\n",
        "lon = math.degrees(math.atan(Y/X))\n",
        "lat = math.degrees(math.atan((Z + ((a*e_sq)/math.sqrt(1-e_sq))*math.sin(teta)**3) / (p - a*e_sq*math.cos(teta)**3) ))\n",
        "h_reverse = (p / math.cos(math.radians(lat))) - N\n",
        "\n",
        "print(f\"Longitude is {lon}\")\n",
        "print(f\"Latitude is {lat}\")\n",
        "print(f\"h is {h_reverse}\")"
      ],
      "metadata": {
        "colab": {
          "base_uri": "https://localhost:8080/"
        },
        "id": "qhDRPDSQC5q7",
        "outputId": "bf5aede5-2fe6-4dad-e1a3-feee15a71e51"
      },
      "execution_count": 27,
      "outputs": [
        {
          "output_type": "stream",
          "name": "stdout",
          "text": [
            "Decimal degrees are 59.349722222222226\n",
            "Decimal degrees are 18.069444444444443\n",
            "X coordinate is 3098917.2417289796\n",
            "Y coordinate is 1011053.4113269701\n",
            "Z coordinate is 5463972.352679947\n",
            "Longitude is 18.069444444444443\n",
            "Latitude is 59.34972222222222\n",
            "h is 84.99999999906868\n"
          ]
        }
      ]
    },
    {
      "cell_type": "markdown",
      "source": [
        "Task #2"
      ],
      "metadata": {
        "id": "l4m9gDpPaYxx"
      }
    },
    {
      "cell_type": "code",
      "source": [
        "# satellite positions file path\n",
        "satellites = \"/content/drive/MyDrive/Colab Notebooks/satellites.txt\"\n",
        "\n",
        "# Load data into a NumPy array using space as the delimiter\n",
        "data = np.genfromtxt(satellites, delimiter=' ')  # Load the data\n",
        "\n",
        "# Create a dictionary with point names as keys and vectors as values\n",
        "sat_dict = {}\n",
        "\n",
        "for row in data:\n",
        "    sat_name = row[0] # Convert bytes to string for the point name\n",
        "    sat_coordinates = np.array(row[1:3], dtype=float)  # Create a NumPy array for coordinates\n",
        "    sat_dict[str(int(sat_name))] = sat_coordinates  # Add to the dictionary\n",
        "\n",
        "# Printing the dictionary\n",
        "print(\"Dictionary with point names as keys and coordinates as values:\")\n",
        "for key, value in sat_dict.items():\n",
        "    print(f\"{key}: {value}\")"
      ],
      "metadata": {
        "colab": {
          "base_uri": "https://localhost:8080/"
        },
        "id": "XOAoM5mnaaVI",
        "outputId": "fe33992c-e539-485d-a461-08d69e962e64"
      },
      "execution_count": 57,
      "outputs": [
        {
          "output_type": "stream",
          "name": "stdout",
          "text": [
            "Dictionary with point names as keys and coordinates as values:\n",
            "1: [20168.35 16031.5 ]\n",
            "2: [-13216.25 -15675.2 ]\n",
            "3: [24273.68 11044.11]\n",
            "4: [ -5635.61 -24940.09]\n",
            "5: [-22597.38  12612.97]\n",
            "6: [-11025.39  11875.83]\n",
            "7: [-10223.35 -18084.47]\n",
            "8: [ 4.630000e+00 -2.633901e+04]\n",
            "9: [-14334.82   5786.63]\n",
            "10: [-18293.96  -3681.19]\n",
            "11: [15283.17 -6864.3 ]\n",
            "13: [  8518.87 -11993.68]\n",
            "14: [10970.08 17831.95]\n",
            "15: [ -161.45 26358.93]\n",
            "16: [14966.51  7382.03]\n",
            "18: [-14735.48  18485.22]\n",
            "19: [23960.3   5523.98]\n",
            "20: [ 22851.63 -13287.33]\n",
            "21: [-7400.88 22801.14]\n",
            "22: [-2798.63 17719.89]\n",
            "23: [19248.21 -4298.33]\n",
            "24: [  4966.96 -24972.12]\n",
            "25: [10251.68 22378.96]\n",
            "26: [-24659.05  -7748.72]\n",
            "27: [  5091.26 -23132.94]\n",
            "28: [  4721.79 -18461.06]\n",
            "29: [-24660.67  -9835.58]\n",
            "30: [-18247.85  18324.56]\n",
            "31: [  -764.51 -16615.4 ]\n"
          ]
        }
      ]
    },
    {
      "cell_type": "markdown",
      "source": [
        "# New section"
      ],
      "metadata": {
        "id": "OsbYqMHEbcUS"
      }
    }
  ]
}