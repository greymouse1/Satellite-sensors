{
  "nbformat": 4,
  "nbformat_minor": 0,
  "metadata": {
    "colab": {
      "provenance": [],
      "mount_file_id": "1VUUwzFp2QlHtURHvT2noLPNPnMw2PUtW",
      "authorship_tag": "ABX9TyPZ3962b/nixPvoEBwWb5Ye",
      "include_colab_link": true
    },
    "kernelspec": {
      "name": "python3",
      "display_name": "Python 3"
    },
    "language_info": {
      "name": "python"
    }
  },
  "cells": [
    {
      "cell_type": "markdown",
      "metadata": {
        "id": "view-in-github",
        "colab_type": "text"
      },
      "source": [
        "<a href=\"https://colab.research.google.com/github/greymouse1/ss_lab1/blob/main/ss_lab1.ipynb\" target=\"_parent\"><img src=\"https://colab.research.google.com/assets/colab-badge.svg\" alt=\"Open In Colab\"/></a>"
      ]
    },
    {
      "cell_type": "code",
      "execution_count": 1,
      "metadata": {
        "id": "9b30HJeyAN4q"
      },
      "outputs": [],
      "source": [
        "# import numpy for matrix operations\n",
        "import numpy as np\n",
        "# import math for advanced operations\n",
        "import math\n",
        "\n",
        "# import modules for handling external files\n",
        "import requests\n",
        "from io import StringIO"
      ]
    },
    {
      "cell_type": "markdown",
      "source": [
        "Task #1"
      ],
      "metadata": {
        "id": "PwoR70y_aUqs"
      }
    },
    {
      "cell_type": "code",
      "source": [
        "# define known values (everything is in meters and dgm)\n",
        "\n",
        "# GRS80 parameters\n",
        "a = 6378137\n",
        "f = 1/298.257222101\n",
        "\n",
        "\n",
        "# semi-minor axis\n",
        "b = a*(1-f)\n",
        "\n",
        "# ellipsoid height\n",
        "h = 85\n",
        "\n",
        "# eccentricity\n",
        "e_sq = ((a**2)-(b**2))/(a**2)\n",
        "\n",
        "# Lat\n",
        "lat_d = 59\n",
        "lat_m = 20\n",
        "lat_s = 59\n",
        "\n",
        "# Lon\n",
        "lon_d = 18\n",
        "lon_m = 4\n",
        "lon_s = 10\n",
        "\n",
        "# define functions for conversion from dgm to radians\n",
        "\n",
        "def dgm_rad (d,m,s) :\n",
        "  decimal_degrees = d + m/60 + s/3600\n",
        "  print(f\"Decimal degrees are {decimal_degrees}\")\n",
        "  degrees_radians = decimal_degrees * (math.pi / 180)\n",
        "  return degrees_radians\n",
        "\n",
        "# Lat in rads\n",
        "lat_r = dgm_rad(lat_d,lat_m,lat_s)\n",
        "\n",
        "# Long in rads\n",
        "lon_r = dgm_rad(lon_d,lon_m,lon_s)\n",
        "\n",
        "N = a / math.sqrt(1 - e_sq * math.sin(lat_r)**2)\n",
        "\n",
        "# define functions for conversion of geodetic to cartesian coordinates\n",
        "X = (N+h)*(math.cos(lat_r)*math.cos(lon_r))\n",
        "Y = (N+h)*(math.cos(lat_r)*math.sin(lon_r))\n",
        "Z = (N*(1-e_sq)+h)*math.sin(lat_r)\n",
        "\n",
        "print(f\"X coordinate is {X}\")\n",
        "print(f\"Y coordinate is {Y}\")\n",
        "print(f\"Z coordinate is {Z}\")\n",
        "\n",
        "def geocentric_geodetic(X,Y,Z,e_sq):\n",
        "\n",
        "  # define auxiliary values\n",
        "  p = math.sqrt(X**2 + Y**2)\n",
        "\n",
        "  teta = math.atan(Z / (p*math.sqrt(1 - e_sq)))\n",
        "\n",
        "  # define functions for conversion from cartesian to geodetic\n",
        "\n",
        "  lon = math.degrees(math.atan(Y/X))\n",
        "  lat = math.degrees(math.atan((Z + ((a*e_sq)/math.sqrt(1-e_sq))*math.sin(teta)**3) / (p - a*e_sq*math.cos(teta)**3) ))\n",
        "  h_reverse = (p / math.cos(math.radians(lat))) - N\n",
        "\n",
        "  return(lon,lat,h_reverse)\n",
        "\n",
        "calc_values = geocentric_geodetic(X,Y,Z,e_sq)\n",
        "print(calc_values)\n",
        "#print(f\"Longitude is {lon}\")\n",
        "#print(f\"Latitude is {lat}\")\n",
        "#print(f\"h is {h_reverse}\")"
      ],
      "metadata": {
        "colab": {
          "base_uri": "https://localhost:8080/"
        },
        "id": "qhDRPDSQC5q7",
        "outputId": "74c9bedd-ee3c-459e-d6f7-495701497f84"
      },
      "execution_count": 2,
      "outputs": [
        {
          "output_type": "stream",
          "name": "stdout",
          "text": [
            "Decimal degrees are 59.349722222222226\n",
            "Decimal degrees are 18.069444444444443\n",
            "X coordinate is 3098917.2417289796\n",
            "Y coordinate is 1011053.4113269701\n",
            "Z coordinate is 5463972.352679947\n",
            "(18.069444444444443, 59.34972222222222, 84.99999999906868)\n"
          ]
        }
      ]
    },
    {
      "cell_type": "markdown",
      "source": [
        "Task #2"
      ],
      "metadata": {
        "id": "l4m9gDpPaYxx"
      }
    },
    {
      "cell_type": "code",
      "source": [
        "# Satellite positions file path\n",
        "external_link = 'https://raw.githubusercontent.com/greymouse1/ss_lab1/main/satellites.txt'\n",
        "\n",
        "# Download data from the external link\n",
        "response = requests.get(external_link)\n",
        "data = np.genfromtxt(StringIO(response.text), delimiter=' ')\n",
        "\n",
        "# Create a dictionary with satellite names as keys and coordinate vectors as values\n",
        "sat_dict = {}\n",
        "\n",
        "for row in data:\n",
        "    sat_name = row[0] # Convert bytes to string for the point name\n",
        "    sat_coordinates = np.array(row[1:4], dtype=float)  # Create a NumPy array for coordinates\n",
        "    sat_dict[str(int(sat_name))] = 100*sat_coordinates  # Add to the dictionary\n",
        "\n",
        "# Create rotation matrix Rl\n",
        "R1 = np.array([[1, 0, 0],\n",
        "               [0,math.cos(90 * (math.pi / 180)-lat_r) ,math.sin(90 * (math.pi / 180)-lat_r) ],\n",
        "               [0, -1*math.sin(90 * (math.pi / 180)-lat_r),math.cos(90 * (math.pi / 180)-lat_r) ]])\n",
        "\n",
        "R3 = np.array([[math.cos(lon_r+90 * (math.pi / 180)) ,math.sin(lon_r+90 * (math.pi / 180)), 0],\n",
        "               [-1*math.sin(lon_r+90 * (math.pi / 180)),math.cos(lon_r+90 * (math.pi / 180)) , 0],\n",
        "               [0, 0, 1]])\n",
        "\n",
        "Rl = np.dot(R1,R3)\n",
        "\n",
        "print(\"Rl matrix is: \", \"\\n\" , Rl)\n",
        "\n",
        "# Convert all satellite coordinates to ENU coordinates\n",
        "\n",
        "sat_enu = {}\n",
        "\n",
        "origin_vector = np.array([X, Y, Z])\n",
        "\n",
        "for sat in sat_dict:\n",
        "  sat_enu[sat] = np.dot(Rl,sat_dict[sat] - origin_vector)\n",
        "\n",
        "# Create function for calculating azimuth\n",
        "\n",
        "def azimuth(e,n):\n",
        "  azimuth_rad = math.atan2(e, n)\n",
        "  azimuth_deg = math.degrees(azimuth_rad)\n",
        "\n",
        "  # Ensure azimuth is in the range [0, 360)\n",
        "  azimuth_deg = (azimuth_deg + 360) % 360\n",
        "\n",
        "  return azimuth_deg\n",
        "\n",
        "enu = {}\n",
        "print(sat_enu)\n",
        "for sat in sat_enu:\n",
        "  e = sat_enu[sat][0]\n",
        "  n = sat_enu[sat][1]\n",
        "\n",
        "  # height\n",
        "  u = sat_enu[sat][2]\n",
        "  # slant distance\n",
        "  s = math.sqrt(n**2+e**2+u**2)\n",
        "\n",
        "  # zenith\n",
        "  z = math.degrees(math.acos(u / s))\n",
        "\n",
        "  # elevation\n",
        "  ele = 90 - z\n",
        "\n",
        "  # pack all values\n",
        "  values = [azimuth(e,n),ele,s]\n",
        "\n",
        "  sat_enu[sat] = values\n",
        "\n",
        "\n",
        "print(sat_enu)\n",
        "\n",
        "\n"
      ],
      "metadata": {
        "colab": {
          "base_uri": "https://localhost:8080/"
        },
        "id": "XOAoM5mnaaVI",
        "outputId": "66631a40-a06d-42c0-f3bf-53e50f1750bc"
      },
      "execution_count": 23,
      "outputs": [
        {
          "output_type": "stream",
          "name": "stdout",
          "text": [
            "[  -764.51 -16615.4   20301.22]\n",
            "Rl matrix is:  \n",
            " [[-0.31016948  0.95068128  0.        ]\n",
            " [-0.81786636 -0.26683725  0.50979653]\n",
            " [ 0.48465402  0.15812333  0.86029501]]\n",
            "{'1': array([  898524.02839606, -1714962.6486996 , -4551696.00893614]), '2': array([-1080284.17872713,   639034.18108792, -8734001.37788294]), '3': array([  297047.3909689 , -2351149.15177505, -5163147.10874703]), '4': array([-2196208.24270297,   813220.09073908, -7590094.20501241]), '5': array([ 1899993.20544329,  1804527.11811284, -6795514.30941166]), '6': array([ 1470986.8734174 ,  -459804.80416691, -8503509.16016725]), '7': array([-1402159.59086179,  2207007.71766698, -5676465.86639989]), '8': array([-2504143.9790045 ,   678768.74373407, -6850291.1996975 ]), '9': array([  994746.44748443,  2109445.87902649, -5155460.06699501]), '10': array([  217458.96467626,   640050.39625597, -8949453.12620313]), '11': array([-1.12661344e+06, -3.35334800e+02, -3.96224014e+06]), '13': array([-1404446.05174978, -1489035.56284053, -8047965.10987392]), '14': array([ 1354991.7016225 ,  -516846.4548742 , -4135617.20166211]), '15': array([ 2510901.81389917,  -653120.96312343, -5922622.49497463]), '16': array([  237580.30932402, -2452313.09809829, -7292295.78412857]), '18': array([ 2214404.87570954,  1336733.70496915, -5761542.87623483]), '19': array([ -218020.94253753, -1569988.07841287, -4239211.95961829]), '20': array([-1971989.4071834 , -1371250.1087235 , -5255098.28032429]), '21': array([ 2397214.4032225 ,  -537069.8737865 , -7293272.60401353]), '22': array([ 1771401.72950665,   781401.38538846, -4519231.24604638]), '23': array([-1005654.9149855 , -2356278.93505794, -7042427.87205265]), '24': array([-2528112.63734556,   658696.00271337, -5875612.73641885]), '25': array([ 1809550.0051624 , -1900537.89322768, -6327953.42586683]), '26': array([   28192.16817459,  2598029.71500286, -7079765.49108664]), '27': array([-2357120.64457574,  -343182.97837786, -7431230.93935465]), '28': array([-1901513.92757986,  1073828.55911372, -4824640.85244551]), '29': array([ -170151.45768738,  2440833.5160245 , -7472308.65460841]), '30': array([ 2308074.22798332,   714337.70919416, -7476622.78583463]), '31': array([-1555882.20481293,  1559609.33983158, -4915678.6438198 ])}\n",
            "{'1': [152.34851268872455, -66.9572523622517, 4946350.055728468], '2': [300.60612555993225, -81.8221600023573, 8823727.027751252], '3': [172.7993240626795, -65.34528930889243, 5681041.062423047], '4': [290.3187693409543, -72.85231395765044, 7943184.978474389], '5': [46.47619477308194, -68.91328162138092, 7283220.924162192], '6': [107.35833266138019, -79.72722541361767, 8642042.054789454], '7': [327.5713247163133, -65.26776143466992, 6249735.939741003], '8': [285.1660704828726, -69.25611962297936, 7325158.946787972], '9': [25.24704882587332, -65.65895632057666, 5658449.514991274], '10': [18.765340437758255, -85.68045535543553, 8974946.471660564], '11': [269.9829459976901, -74.12756063408094, 4119296.6464534765], '13': [223.32546302437336, -75.7302600583896, 8304181.960279251], '14': [110.87879355529151, -70.67599286701494, 4382517.816057956], '15': [104.58033947669179, -66.34377291555543, 6465961.036805968], '16': [174.46644888547735, -71.3318080261804, 7697263.262855325], '18': [58.882563757551395, -65.82275942233352, 6315522.3272710405], '19': [187.90598270687653, -69.49908169356146, 4525849.504381936], '20': [235.18664549751642, -65.43681481751179, 5777986.415576371], '21': [102.62797273792535, -71.3845981429821, 7695901.91080946], '22': [66.19674719439195, -66.80913674043143, 4916492.984600718], '23': [203.112687949682, -70.00950003839677, 7493943.0582902245], '24': [284.603650072901, -66.02829849529053, 6430245.637568152], '25': [136.40486622700269, -67.47610023307473, 6850511.66444648], '26': [0.6217130025563051, -69.84751410468363, 7541460.906692119], '27': [261.71627426096916, -72.22750759506872, 7803652.065780174], '28': [299.4544142819385, -65.64711063793146, 5295849.539614444], '29': [356.0123398795454, -71.86931546669695, 7862697.781374881], '30': [72.80295888799162, -72.0916355097749, 7857313.363123502], '31': [315.0685442413524, -65.86021658826283, 5386747.372714774]}\n"
          ]
        }
      ]
    },
    {
      "cell_type": "markdown",
      "source": [
        "# New section"
      ],
      "metadata": {
        "id": "OsbYqMHEbcUS"
      }
    }
  ]
}