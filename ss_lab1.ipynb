{
  "nbformat": 4,
  "nbformat_minor": 0,
  "metadata": {
    "colab": {
      "provenance": [],
      "mount_file_id": "1VUUwzFp2QlHtURHvT2noLPNPnMw2PUtW",
      "authorship_tag": "ABX9TyPYCJgQsPf276t5UybwRL3R",
      "include_colab_link": true
    },
    "kernelspec": {
      "name": "python3",
      "display_name": "Python 3"
    },
    "language_info": {
      "name": "python"
    }
  },
  "cells": [
    {
      "cell_type": "markdown",
      "metadata": {
        "id": "view-in-github",
        "colab_type": "text"
      },
      "source": [
        "<a href=\"https://colab.research.google.com/github/greymouse1/ss_lab1/blob/main/ss_lab1.ipynb\" target=\"_parent\"><img src=\"https://colab.research.google.com/assets/colab-badge.svg\" alt=\"Open In Colab\"/></a>"
      ]
    },
    {
      "cell_type": "code",
      "execution_count": 1,
      "metadata": {
        "id": "9b30HJeyAN4q"
      },
      "outputs": [],
      "source": [
        "# import numpy for matrix operations\n",
        "import numpy as np\n",
        "# import math for advanced operations\n",
        "import math\n",
        "\n",
        "# import modules for handling external files\n",
        "import requests\n",
        "from io import StringIO"
      ]
    },
    {
      "cell_type": "markdown",
      "source": [
        "Task #1"
      ],
      "metadata": {
        "id": "PwoR70y_aUqs"
      }
    },
    {
      "cell_type": "code",
      "source": [
        "# define known values (everything is in meters and dgm)\n",
        "\n",
        "# GRS80 parameters\n",
        "a = 6378137\n",
        "f = 1/298.257222101\n",
        "\n",
        "\n",
        "# semi-minor axis\n",
        "b = a*(1-f)\n",
        "\n",
        "# ellipsoid height\n",
        "h = 85\n",
        "\n",
        "# eccentricity\n",
        "e_sq = ((a**2)-(b**2))/(a**2)\n",
        "\n",
        "# Lat\n",
        "lat_d = 59\n",
        "lat_m = 20\n",
        "lat_s = 59\n",
        "\n",
        "# Lon\n",
        "lon_d = 18\n",
        "lon_m = 4\n",
        "lon_s = 10\n",
        "\n",
        "# define functions for conversion from dgm to radians\n",
        "\n",
        "def dgm_rad (d,m,s) :\n",
        "  decimal_degrees = d + m/60 + s/3600\n",
        "  print(f\"Decimal degrees are {decimal_degrees}\")\n",
        "  degrees_radians = decimal_degrees * (math.pi / 180)\n",
        "  return degrees_radians\n",
        "\n",
        "# Lat in rads\n",
        "lat_r = dgm_rad(lat_d,lat_m,lat_s)\n",
        "\n",
        "# Long in rads\n",
        "lon_r = dgm_rad(lon_d,lon_m,lon_s)\n",
        "\n",
        "N = a / math.sqrt(1 - e_sq * math.sin(lat_r)**2)\n",
        "\n",
        "# define functions for conversion of geodetic to cartesian coordinates\n",
        "X = (N+h)*(math.cos(lat_r)*math.cos(lon_r))\n",
        "Y = (N+h)*(math.cos(lat_r)*math.sin(lon_r))\n",
        "Z = (N*(1-e_sq)+h)*math.sin(lat_r)\n",
        "\n",
        "print(f\"X coordinate is {X}\")\n",
        "print(f\"Y coordinate is {Y}\")\n",
        "print(f\"Z coordinate is {Z}\")\n",
        "\n",
        "def geocentric_geodetic(X,Y,Z,e_sq):\n",
        "\n",
        "  # define auxiliary values\n",
        "  p = math.sqrt(X**2 + Y**2)\n",
        "\n",
        "  teta = math.atan(Z / (p*math.sqrt(1 - e_sq)))\n",
        "\n",
        "  # define functions for conversion from cartesian to geodetic\n",
        "\n",
        "  lon = math.degrees(math.atan(Y/X))\n",
        "  lat = math.degrees(math.atan((Z + ((a*e_sq)/math.sqrt(1-e_sq))*math.sin(teta)**3) / (p - a*e_sq*math.cos(teta)**3) ))\n",
        "  h_reverse = (p / math.cos(math.radians(lat))) - N\n",
        "\n",
        "  return(lon,lat,h_reverse)\n",
        "\n",
        "calc_values = geocentric_geodetic(X,Y,Z,e_sq)\n",
        "print(calc_values)\n",
        "#print(f\"Longitude is {lon}\")\n",
        "#print(f\"Latitude is {lat}\")\n",
        "#print(f\"h is {h_reverse}\")"
      ],
      "metadata": {
        "colab": {
          "base_uri": "https://localhost:8080/"
        },
        "id": "qhDRPDSQC5q7",
        "outputId": "7383b1ce-9738-417a-f5c7-7e322555e7de"
      },
      "execution_count": 2,
      "outputs": [
        {
          "output_type": "stream",
          "name": "stdout",
          "text": [
            "Decimal degrees are 59.349722222222226\n",
            "Decimal degrees are 18.069444444444443\n",
            "X coordinate is 3098917.2417289796\n",
            "Y coordinate is 1011053.4113269701\n",
            "Z coordinate is 5463972.352679947\n",
            "(18.069444444444443, 59.34972222222222, 84.99999999906868)\n"
          ]
        }
      ]
    },
    {
      "cell_type": "markdown",
      "source": [
        "Task #2"
      ],
      "metadata": {
        "id": "l4m9gDpPaYxx"
      }
    },
    {
      "cell_type": "code",
      "source": [
        "# Satellite positions file path\n",
        "external_link = 'https://raw.githubusercontent.com/greymouse1/ss_lab1/main/satellites.txt'\n",
        "\n",
        "# Download data from the external link\n",
        "response = requests.get(external_link)\n",
        "data = np.genfromtxt(StringIO(response.text), delimiter=' ')\n",
        "\n",
        "# Create a dictionary with satellite names as keys and coordinate vectors as values\n",
        "sat_dict = {}\n",
        "\n",
        "for row in data:\n",
        "    sat_name = row[0] # Convert bytes to string for the point name\n",
        "    sat_coordinates = np.array(row[1:4], dtype=float)  # Create a NumPy array for coordinates\n",
        "    sat_dict[str(int(sat_name))] = 1000*sat_coordinates  # Add to the dictionary\n",
        "\n",
        "# Create rotation matrix Rl\n",
        "R1 = np.array([[1, 0, 0],\n",
        "               [0,math.cos(90 * (math.pi / 180)-lat_r) ,math.sin(90 * (math.pi / 180)-lat_r) ],\n",
        "               [0, -1*math.sin(90 * (math.pi / 180)-lat_r),math.cos(90 * (math.pi / 180)-lat_r) ]])\n",
        "\n",
        "R3 = np.array([[math.cos(lon_r+90 * (math.pi / 180)) ,math.sin(lon_r+90 * (math.pi / 180)), 0],\n",
        "               [-1*math.sin(lon_r+90 * (math.pi / 180)),math.cos(lon_r+90 * (math.pi / 180)) , 0],\n",
        "               [0, 0, 1]])\n",
        "\n",
        "Rl = np.dot(R1,R3)\n",
        "\n",
        "print(\"Rl matrix is: \", \"\\n\" , Rl)\n",
        "\n",
        "# Convert all satellite coordinates to ENU coordinates\n",
        "\n",
        "sat_enu = {}\n",
        "\n",
        "origin_vector = np.array([X, Y, Z])\n",
        "\n",
        "for sat in sat_dict:\n",
        "  sat_enu[sat] = np.dot(Rl,sat_dict[sat] - origin_vector)\n",
        "\n",
        "# Create function for calculating azimuth\n",
        "\n",
        "def azimuth(e,n):\n",
        "  azimuth_rad = math.atan2(e, n)\n",
        "  azimuth_deg = math.degrees(azimuth_rad)\n",
        "\n",
        "  # Ensure azimuth is in the range [0, 360)\n",
        "  azimuth_deg = (azimuth_deg + 360) % 360\n",
        "\n",
        "  return azimuth_deg\n",
        "\n",
        "# Dictionary containing only satellites above horizon\n",
        "\n",
        "enu = {}\n",
        "\n",
        "for sat in sat_enu:\n",
        "  e = sat_enu[sat][0]\n",
        "  n = sat_enu[sat][1]\n",
        "\n",
        "  # height\n",
        "  u = sat_enu[sat][2]\n",
        "  # slant distance\n",
        "  s = math.sqrt(n**2+e**2+u**2)\n",
        "\n",
        "  # zenith\n",
        "  z = math.degrees(math.acos(u / s))\n",
        "\n",
        "  # elevation\n",
        "  ele = 90 - z\n",
        "\n",
        "  if ele > 0:\n",
        "    # pack all values\n",
        "    values = [azimuth(e,n),ele,s]\n",
        "    enu[sat] = values\n",
        "\n",
        "print(\"Satellites which are visible by observer and their elevation :\")\n",
        "\n",
        "for key in enu:\n",
        "  print(key,\",\",enu[key][1])\n",
        "\n",
        "\n"
      ],
      "metadata": {
        "colab": {
          "base_uri": "https://localhost:8080/"
        },
        "id": "XOAoM5mnaaVI",
        "outputId": "85d8c699-4fcd-4f70-b186-ea73013a4523"
      },
      "execution_count": 15,
      "outputs": [
        {
          "output_type": "stream",
          "name": "stdout",
          "text": [
            "Rl matrix is:  \n",
            " [[-0.31016948  0.95068128  0.        ]\n",
            " [-0.81786636 -0.26683725  0.50979653]\n",
            " [ 0.48465402  0.15812333  0.86029501]]\n",
            "Satellites which are visible by observer and their elevation :\n",
            "1 , 31.046238428766173\n",
            "3 , 13.273751623676517\n",
            "7 , 1.0947928824200375\n",
            "9 , 13.83736876483212\n",
            "11 , 57.43066537619199\n",
            "14 , 47.52233856645591\n",
            "19 , 42.870700858933155\n",
            "20 , 11.05266718535735\n",
            "22 , 32.02878579501622\n",
            "28 , 22.508841540234556\n",
            "31 , 20.299680386993387\n"
          ]
        }
      ]
    },
    {
      "cell_type": "markdown",
      "source": [
        "# New section"
      ],
      "metadata": {
        "id": "OsbYqMHEbcUS"
      }
    }
  ]
}